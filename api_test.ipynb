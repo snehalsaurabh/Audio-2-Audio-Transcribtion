{
 "cells": [
  {
   "cell_type": "code",
   "execution_count": 1,
   "metadata": {},
   "outputs": [
    {
     "name": "stderr",
     "output_type": "stream",
     "text": [
      "d:\\MachineLearning\\Audio-2-Audio-Transcription\\env\\lib\\site-packages\\tqdm\\auto.py:21: TqdmWarning: IProgress not found. Please update jupyter and ipywidgets. See https://ipywidgets.readthedocs.io/en/stable/user_install.html\n",
      "  from .autonotebook import tqdm as notebook_tqdm\n"
     ]
    },
    {
     "name": "stdout",
     "output_type": "stream",
     "text": [
      "## Generative AI: The Creative Side of Artificial Intelligence\n",
      "\n",
      "Generative AI is a fascinating branch of artificial intelligence that focuses on **creating new content**, rather than just analyzing or acting on existing data. Imagine a computer program that can compose music, write stories, or even design new products – that's the power of generative AI. \n",
      "\n",
      "Here's a breakdown:\n",
      "\n",
      "**What it does:**\n",
      "\n",
      "* **Generates new data:**  It learns patterns and structures from existing data (text, images, code, etc.) and then uses this knowledge to generate similar, yet original, content.\n",
      "* **Mimics human creativity:**  While not truly \"creative\" in the human sense, it can produce outputs that are often indistinguishable from human-created content.\n",
      "\n",
      "**How it works:**\n",
      "\n",
      "Generative AI models are typically built using **neural networks**, specifically a type called **Generative Adversarial Networks (GANs)** or **Transformers**. These networks are trained on massive datasets and learn to generate new data that shares the same characteristics as the training data.\n",
      "\n",
      "**Examples of generative AI in action:**\n",
      "\n",
      "* **Text generation:** Writing stories, poems, articles, chatbot responses, translating languages.\n",
      "* **Image generation:** Creating realistic images, artwork, photorealistic edits, deepfakes.\n",
      "* **Music generation:** Composing new melodies, harmonies, and even entire songs.\n",
      "* **Code generation:**  Generating code in different programming languages based on given instructions.\n",
      "* **Drug discovery:** Designing new drug molecules with specific properties.\n",
      "\n",
      "**Benefits of generative AI:**\n",
      "\n",
      "* **Increased efficiency and productivity:** Automating creative tasks, freeing up human time and resources.\n",
      "* **New possibilities and innovation:**  Exploring new creative avenues and generating novel ideas.\n",
      "* **Personalization and customization:** Creating tailored content based on individual preferences.\n",
      "\n",
      "**Challenges and concerns:**\n",
      "\n",
      "* **Bias and fairness:**  Generative AI models can inherit biases present in the training data, leading to unfair or discriminatory outputs.\n",
      "* **Misinformation and manipulation:** The potential for malicious use, such as creating fake news or deepfakes.\n",
      "* **Ethical considerations:**  Questions about ownership and copyright of AI-generated content.\n",
      "\n",
      "**Generative AI is still a relatively new field, but it's rapidly evolving and holds immense potential to revolutionize various industries.** From entertainment and art to healthcare and technology, the possibilities are vast and exciting. \n",
      "\n"
     ]
    }
   ],
   "source": [
    "import os\n",
    "import google.generativeai as genai\n",
    "import dotenv\n",
    "\n",
    "genai.configure(api_key=os.getenv(\"GOOGLE_API_KEY\"))\n",
    "\n",
    "# Set up the model\n",
    "generation_config = {\n",
    "    \"temperature\": 0.2,\n",
    "    \"top_p\": 0.8,\n",
    "    \"top_k\": 64,\n",
    "    \"max_output_tokens\": 8192,\n",
    "}\n",
    "\n",
    "model = genai.GenerativeModel(\n",
    "    model_name=\"gemini-1.5-pro\",\n",
    "    generation_config=generation_config,\n",
    ")\n",
    "\n",
    "response = model.generate_content(\"What is generative AI?\")\n",
    "\n",
    "try:\n",
    "    print(response.text)\n",
    "except Exception as e:\n",
    "    print(\"Exception:\\n\", e, \"\\n\")\n",
    "    print(\"Response:\\n\", response.candidates)"
   ]
  },
  {
   "cell_type": "code",
   "execution_count": 2,
   "metadata": {},
   "outputs": [
    {
     "name": "stdout",
     "output_type": "stream",
     "text": [
      "The fridge contains:\n",
      "\n",
      "* A whole chicken\n",
      "* Several cans of soda\n",
      "* A bottle of sparkling water\n",
      "* A carton of pineapple juice\n",
      "* A head of broccoli\n",
      "* Apples\n",
      "* Oranges\n",
      "* A container of cherries\n",
      "* A container of strawberries\n",
      "* Several jars of jam\n",
      "* Several packs of sliced cheese\n",
      "* Several packs of sliced meat \n",
      "\n"
     ]
    }
   ],
   "source": [
    "# Set up the model\n",
    "generation_config = {\n",
    "    \"temperature\": 0.2,\n",
    "    \"top_p\": 0.8,\n",
    "    \"top_k\": 64,\n",
    "    \"max_output_tokens\": 8192,\n",
    "}\n",
    "\n",
    "model = genai.GenerativeModel(\n",
    "    model_name=\"gemini-1.5-pro\",\n",
    "    generation_config=generation_config,\n",
    ")\n",
    "\n",
    "prompt_parts = [\n",
    "    genai.upload_file(\"assets/fridge.jpg\"),\n",
    "    \"List the items in the fridge.\",\n",
    "]\n",
    "\n",
    "response = model.generate_content(prompt_parts)\n",
    "\n",
    "try:\n",
    "    print(response.text)\n",
    "except Exception as e:\n",
    "    print(\"Exception:\\n\", e, \"\\n\")\n",
    "    print(\"Response:\\n\", response.candidates)"
   ]
  }
 ],
 "metadata": {
  "kernelspec": {
   "display_name": "env",
   "language": "python",
   "name": "python3"
  },
  "language_info": {
   "codemirror_mode": {
    "name": "ipython",
    "version": 3
   },
   "file_extension": ".py",
   "mimetype": "text/x-python",
   "name": "python",
   "nbconvert_exporter": "python",
   "pygments_lexer": "ipython3",
   "version": "3.10.0"
  }
 },
 "nbformat": 4,
 "nbformat_minor": 2
}
